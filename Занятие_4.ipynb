{
 "cells": [
  {
   "cell_type": "code",
   "execution_count": 1,
   "metadata": {},
   "outputs": [],
   "source": [
    "import numpy as np\n",
    "import scipy.linalg"
   ]
  },
  {
   "cell_type": "code",
   "execution_count": 23,
   "metadata": {},
   "outputs": [],
   "source": [
    "a = np.array([[2, 1, 1], [4, -6, 0], [-2, 7, 2]])\n",
    "b = np.array([5, -2, 9])\n",
    "detA = np.linalg.det(a)"
   ]
  },
  {
   "cell_type": "code",
   "execution_count": 24,
   "metadata": {},
   "outputs": [
    {
     "name": "stdout",
     "output_type": "stream",
     "text": [
      "det A:\n",
      " -15.999999999999998\n",
      "\n"
     ]
    }
   ],
   "source": [
    "print (f'det A:\\n {detA}\\n')"
   ]
  },
  {
   "cell_type": "code",
   "execution_count": 25,
   "metadata": {},
   "outputs": [
    {
     "name": "stdout",
     "output_type": "stream",
     "text": [
      "a1:\n",
      " [[ 5  1  1]\n",
      " [-2 -6  0]\n",
      " [ 9  7  2]]\n",
      "\n"
     ]
    }
   ],
   "source": [
    "a1=np.column_stack([b,a[:,1:]])\n",
    "detA1=np.linalg.det(a1)\n",
    "print (f'a1:\\n {a1}\\n')"
   ]
  },
  {
   "cell_type": "code",
   "execution_count": 26,
   "metadata": {},
   "outputs": [
    {
     "name": "stdout",
     "output_type": "stream",
     "text": [
      "a2:\n",
      " [[ 2  5  1]\n",
      " [ 4 -2  0]\n",
      " [-2  9  2]]\n",
      "\n"
     ]
    }
   ],
   "source": [
    "a2=np.column_stack([a[:,0], b, a[:,2]])\n",
    "detA2=np.linalg.det(a2)\n",
    "print (f'a2:\\n {a2}\\n')"
   ]
  },
  {
   "cell_type": "code",
   "execution_count": 27,
   "metadata": {},
   "outputs": [
    {
     "name": "stdout",
     "output_type": "stream",
     "text": [
      "a3:\n",
      " [[ 2  1  5]\n",
      " [ 4 -6 -2]\n",
      " [-2  7  9]]\n",
      "\n"
     ]
    }
   ],
   "source": [
    "a3=np.column_stack([a[:,0:2], b])\n",
    "detA3=np.linalg.det(a3)\n",
    "print (f'a3:\\n {a3}\\n')"
   ]
  },
  {
   "cell_type": "code",
   "execution_count": 28,
   "metadata": {},
   "outputs": [
    {
     "name": "stdout",
     "output_type": "stream",
     "text": [
      "x1= 1.0000000000000007\n",
      "\n",
      "x2= 0.9999999999999996\n",
      "\n",
      "x3= 2.0000000000000004\n",
      "\n"
     ]
    }
   ],
   "source": [
    "print (f'x1= {detA1 /detA}\\n')\n",
    "print (f'x2= {detA2 /detA}\\n')\n",
    "print (f'x3= {detA3 /detA}\\n')"
   ]
  },
  {
   "cell_type": "code",
   "execution_count": 30,
   "metadata": {},
   "outputs": [],
   "source": [
    "a = np.array([[2, 1, -1], [4, -6, -2], [-2, 7, -3]])\n",
    "b = np.array([5, -2, 7])\n",
    "lu, piv = scipy.linalg.lu_factor(a)\n",
    "x= scipy.linalg.lu_solve((lu,piv), b)"
   ]
  },
  {
   "cell_type": "code",
   "execution_count": 46,
   "metadata": {},
   "outputs": [
    {
     "name": "stdout",
     "output_type": "stream",
     "text": [
      "a:\n",
      " [[ 2  1 -1]\n",
      " [ 4 -6 -2]\n",
      " [-2  7 -3]]\n",
      "\n",
      "b:\n",
      " [ 5 -2  7]\n",
      "\n",
      "x:\n",
      " [ 1.75  1.5  -0.  ]\n",
      "\n",
      "Ax:\n",
      " [ 5. -2.  7.]\n",
      "\n"
     ]
    }
   ],
   "source": [
    "print (f'a:\\n {a}\\n')\n",
    "print (f'b:\\n {b}\\n')\n",
    "print (f'x:\\n {x}\\n')\n",
    "print (f'Ax:\\n {a @ x}\\n')"
   ]
  },
  {
   "cell_type": "code",
   "execution_count": 48,
   "metadata": {},
   "outputs": [
    {
     "name": "stdout",
     "output_type": "stream",
     "text": [
      "x:\n",
      " [1. 1. 2.]\n",
      "\n"
     ]
    }
   ],
   "source": [
    "a = np.array([[2, 1, 1], [4, -6, 0], [-2, 7, 2]])\n",
    "b = np.array([5, -2, 9])\n",
    "x = scipy.linalg.solve(a,b)\n",
    "print (f'x:\\n {x}\\n')"
   ]
  },
  {
   "cell_type": "code",
   "execution_count": null,
   "metadata": {},
   "outputs": [],
   "source": []
  }
 ],
 "metadata": {
  "kernelspec": {
   "display_name": "Python 3",
   "language": "python",
   "name": "python3"
  },
  "language_info": {
   "codemirror_mode": {
    "name": "ipython",
    "version": 3
   },
   "file_extension": ".py",
   "mimetype": "text/x-python",
   "name": "python",
   "nbconvert_exporter": "python",
   "pygments_lexer": "ipython3",
   "version": "3.7.6"
  }
 },
 "nbformat": 4,
 "nbformat_minor": 2
}
